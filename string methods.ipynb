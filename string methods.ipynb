{
 "cells": [
  {
   "cell_type": "raw",
   "id": "d22d56ec",
   "metadata": {},
   "source": [
    "1. capitalize()\n",
    "2. upper()\n",
    "3. lower()\n",
    "4. casefold()\n",
    "5. title()\n",
    "6. lstrip()\n",
    "7. rstrip()\n",
    "8. strip()\n",
    "9. swapcase()\n",
    "10. replace()\n",
    "11. count()\n",
    "12. index()\n",
    "13. find()\n",
    "14. isalnum()\n",
    "15. isalpha()"
   ]
  },
  {
   "cell_type": "markdown",
   "id": "d3f3dbac",
   "metadata": {},
   "source": [
    "## 16. islower()"
   ]
  },
  {
   "cell_type": "raw",
   "id": "bd962860",
   "metadata": {},
   "source": [
    "True --->> if all chars are in lower case (space and special char allowed)\n",
    "False --->> other than lower case "
   ]
  },
  {
   "cell_type": "code",
   "execution_count": 1,
   "id": "8e72d1f5",
   "metadata": {},
   "outputs": [
    {
     "name": "stdout",
     "output_type": "stream",
     "text": [
      "True\n"
     ]
    }
   ],
   "source": [
    "string = \"python\"\n",
    "print(string.islower()) ## True"
   ]
  },
  {
   "cell_type": "code",
   "execution_count": 2,
   "id": "0b29ae25",
   "metadata": {},
   "outputs": [
    {
     "name": "stdout",
     "output_type": "stream",
     "text": [
      "True\n"
     ]
    }
   ],
   "source": [
    "string = \"python and data sceince\"\n",
    "print(string.islower()) ## True"
   ]
  },
  {
   "cell_type": "code",
   "execution_count": 3,
   "id": "18e40980",
   "metadata": {},
   "outputs": [
    {
     "name": "stdout",
     "output_type": "stream",
     "text": [
      "True\n"
     ]
    }
   ],
   "source": [
    "string = \"python and data sceince 76 #@\"\n",
    "print(string.islower()) ## True"
   ]
  },
  {
   "cell_type": "code",
   "execution_count": 4,
   "id": "78e4426e",
   "metadata": {},
   "outputs": [
    {
     "name": "stdout",
     "output_type": "stream",
     "text": [
      "False\n"
     ]
    }
   ],
   "source": [
    "string = \"Python and data sceince 76 #@\"\n",
    "print(string.islower()) ## True"
   ]
  },
  {
   "cell_type": "markdown",
   "id": "bf30e962",
   "metadata": {},
   "source": [
    "##  17. isupper()"
   ]
  },
  {
   "cell_type": "raw",
   "id": "3cb2036d",
   "metadata": {},
   "source": [
    "True --->> if all chars are in upper case (space and special char allowed)\n",
    "False --->> other than upper case "
   ]
  },
  {
   "cell_type": "code",
   "execution_count": 5,
   "id": "621ce390",
   "metadata": {},
   "outputs": [
    {
     "name": "stdout",
     "output_type": "stream",
     "text": [
      "False\n"
     ]
    }
   ],
   "source": [
    "string = \"python\"\n",
    "print(string.isupper()) ## False"
   ]
  },
  {
   "cell_type": "code",
   "execution_count": 6,
   "id": "afd08003",
   "metadata": {},
   "outputs": [
    {
     "name": "stdout",
     "output_type": "stream",
     "text": [
      "True\n"
     ]
    }
   ],
   "source": [
    "string = \"PYTHON\"\n",
    "print(string.isupper()) ## False"
   ]
  },
  {
   "cell_type": "markdown",
   "id": "ce91afc0",
   "metadata": {},
   "source": [
    "## 18. istitle()"
   ]
  },
  {
   "cell_type": "raw",
   "id": "16bdd4fb",
   "metadata": {},
   "source": [
    "True -- > First letter of each word should capital "
   ]
  },
  {
   "cell_type": "code",
   "execution_count": 7,
   "id": "97f3baaa",
   "metadata": {},
   "outputs": [
    {
     "name": "stdout",
     "output_type": "stream",
     "text": [
      "False\n"
     ]
    }
   ],
   "source": [
    "string = \"Python and Data Science\"\n",
    "print(string.istitle()) ## False"
   ]
  },
  {
   "cell_type": "code",
   "execution_count": 8,
   "id": "851ce101",
   "metadata": {},
   "outputs": [
    {
     "name": "stdout",
     "output_type": "stream",
     "text": [
      "True\n"
     ]
    }
   ],
   "source": [
    "string = \"Python And Data Science\"\n",
    "print(string.istitle()) ## True"
   ]
  },
  {
   "cell_type": "code",
   "execution_count": 9,
   "id": "4509e5e4",
   "metadata": {},
   "outputs": [
    {
     "name": "stdout",
     "output_type": "stream",
     "text": [
      "False\n"
     ]
    }
   ],
   "source": [
    "string = \"PythonAndDataScience\"\n",
    "print(string.istitle()) ## False"
   ]
  },
  {
   "cell_type": "markdown",
   "id": "ba30f249",
   "metadata": {},
   "source": [
    "## 19. isspace()"
   ]
  },
  {
   "cell_type": "markdown",
   "id": "d308f126",
   "metadata": {},
   "source": [
    "It will return True if whitespace are present. "
   ]
  },
  {
   "cell_type": "code",
   "execution_count": 10,
   "id": "a6e1ace9",
   "metadata": {},
   "outputs": [
    {
     "name": "stdout",
     "output_type": "stream",
     "text": [
      "True\n"
     ]
    }
   ],
   "source": [
    "string = \"                   \"\n",
    "print(string.isspace()) ## True"
   ]
  },
  {
   "cell_type": "code",
   "execution_count": 11,
   "id": "a5b72fa2",
   "metadata": {},
   "outputs": [
    {
     "name": "stdout",
     "output_type": "stream",
     "text": [
      "True\n"
     ]
    }
   ],
   "source": [
    "string = \" \"\n",
    "print(string.isspace()) ## True"
   ]
  },
  {
   "cell_type": "code",
   "execution_count": 12,
   "id": "c8422e41",
   "metadata": {},
   "outputs": [
    {
     "name": "stdout",
     "output_type": "stream",
     "text": [
      "False\n"
     ]
    }
   ],
   "source": [
    "string = \"\"\n",
    "print(string.isspace()) ## "
   ]
  },
  {
   "cell_type": "code",
   "execution_count": 13,
   "id": "b88c203c",
   "metadata": {},
   "outputs": [
    {
     "name": "stdout",
     "output_type": "stream",
     "text": [
      "False\n"
     ]
    }
   ],
   "source": [
    "string = \"     A    \"\n",
    "print(string.isspace()) ## "
   ]
  },
  {
   "cell_type": "markdown",
   "id": "2db365ed",
   "metadata": {},
   "source": [
    "## 20. isdecimal()"
   ]
  },
  {
   "cell_type": "raw",
   "id": "6c3a1218",
   "metadata": {},
   "source": [
    "True --- >> If string contains only digits [0-9]\n",
    "\n",
    "it does not allow any special char (dot, space etc)"
   ]
  },
  {
   "cell_type": "code",
   "execution_count": 14,
   "id": "46711698",
   "metadata": {},
   "outputs": [
    {
     "name": "stdout",
     "output_type": "stream",
     "text": [
      "True\n"
     ]
    }
   ],
   "source": [
    "string = \"123445\"\n",
    "print(string.isdecimal()) ## True"
   ]
  },
  {
   "cell_type": "code",
   "execution_count": 15,
   "id": "e6a20bd1",
   "metadata": {},
   "outputs": [
    {
     "name": "stdout",
     "output_type": "stream",
     "text": [
      "False\n"
     ]
    }
   ],
   "source": [
    "string = \"123 445\"\n",
    "print(string.isdecimal()) ## False"
   ]
  },
  {
   "cell_type": "code",
   "execution_count": 16,
   "id": "11f4ab4a",
   "metadata": {},
   "outputs": [
    {
     "name": "stdout",
     "output_type": "stream",
     "text": [
      "False\n"
     ]
    }
   ],
   "source": [
    "string = \"123445@\"\n",
    "print(string.isdecimal()) ## False"
   ]
  },
  {
   "cell_type": "code",
   "execution_count": 17,
   "id": "c7e5a939",
   "metadata": {},
   "outputs": [
    {
     "name": "stdout",
     "output_type": "stream",
     "text": [
      "True\n"
     ]
    }
   ],
   "source": [
    "mobileno=\"9922992299\"\n",
    "print(mobileno.isdecimal())"
   ]
  },
  {
   "cell_type": "code",
   "execution_count": 18,
   "id": "18684d6a",
   "metadata": {},
   "outputs": [
    {
     "name": "stdout",
     "output_type": "stream",
     "text": [
      "False\n"
     ]
    }
   ],
   "source": [
    "mobileno=\"9922992j99\"\n",
    "print(mobileno.isdecimal())"
   ]
  },
  {
   "cell_type": "markdown",
   "id": "8393c34f",
   "metadata": {},
   "source": [
    "## 21. isdigit()"
   ]
  },
  {
   "cell_type": "raw",
   "id": "9ae384e0",
   "metadata": {},
   "source": [
    "True --- >> If string contains digits, subscripts, superscripts # H2O -- subscript && x3(cube) -- superscript\n",
    "\n"
   ]
  },
  {
   "cell_type": "code",
   "execution_count": 19,
   "id": "bc8998fd",
   "metadata": {},
   "outputs": [
    {
     "name": "stdout",
     "output_type": "stream",
     "text": [
      "True\n"
     ]
    }
   ],
   "source": [
    "mobileno=\"992299299\"\n",
    "print(mobileno.isdigit()) # True"
   ]
  },
  {
   "cell_type": "code",
   "execution_count": 20,
   "id": "cf0a59f7",
   "metadata": {},
   "outputs": [
    {
     "name": "stdout",
     "output_type": "stream",
     "text": [
      "True\n"
     ]
    }
   ],
   "source": [
    "string = \"\\u2082\" # subscript \n",
    "print(string.isdigit()) ## True"
   ]
  },
  {
   "cell_type": "code",
   "execution_count": 22,
   "id": "1bfe113c",
   "metadata": {},
   "outputs": [
    {
     "name": "stdout",
     "output_type": "stream",
     "text": [
      "False\n"
     ]
    }
   ],
   "source": [
    "string = \"\\u2082\" # subscript \n",
    "print(string.isdecimal()) ## False"
   ]
  },
  {
   "cell_type": "code",
   "execution_count": 23,
   "id": "dcf1478f",
   "metadata": {},
   "outputs": [
    {
     "name": "stdout",
     "output_type": "stream",
     "text": [
      "True\n"
     ]
    }
   ],
   "source": [
    "string = \"\\u00B9\" # superscript\n",
    "print(string.isdigit()) ## True"
   ]
  },
  {
   "cell_type": "code",
   "execution_count": 25,
   "id": "6b19bc8b",
   "metadata": {},
   "outputs": [
    {
     "name": "stdout",
     "output_type": "stream",
     "text": [
      "False\n"
     ]
    }
   ],
   "source": [
    "string = \"\\u00B9\" # superscript\n",
    "print(string.isdecimal()) ## False"
   ]
  },
  {
   "cell_type": "code",
   "execution_count": null,
   "id": "890ce76e",
   "metadata": {},
   "outputs": [],
   "source": [
    "chr() ---> u\n",
    "ord() ---> "
   ]
  },
  {
   "cell_type": "code",
   "execution_count": 26,
   "id": "fab8d2ed",
   "metadata": {},
   "outputs": [
    {
     "data": {
      "text/plain": [
       "97"
      ]
     },
     "execution_count": 26,
     "metadata": {},
     "output_type": "execute_result"
    }
   ],
   "source": [
    "ord('a')"
   ]
  },
  {
   "cell_type": "code",
   "execution_count": 27,
   "id": "2e0d0137",
   "metadata": {},
   "outputs": [
    {
     "data": {
      "text/plain": [
       "65"
      ]
     },
     "execution_count": 27,
     "metadata": {},
     "output_type": "execute_result"
    }
   ],
   "source": [
    "ord('A')"
   ]
  },
  {
   "cell_type": "code",
   "execution_count": 28,
   "id": "ef521c2a",
   "metadata": {},
   "outputs": [
    {
     "data": {
      "text/plain": [
       "49"
      ]
     },
     "execution_count": 28,
     "metadata": {},
     "output_type": "execute_result"
    }
   ],
   "source": [
    "ord('1')"
   ]
  },
  {
   "cell_type": "code",
   "execution_count": null,
   "id": "cf5d7b41",
   "metadata": {},
   "outputs": [],
   "source": [
    "unicode --- >> each letter, digit, or symbol is assigned a unique numeric value"
   ]
  },
  {
   "cell_type": "code",
   "execution_count": 29,
   "id": "5ebe9be4",
   "metadata": {},
   "outputs": [
    {
     "data": {
      "text/plain": [
       "'1'"
      ]
     },
     "execution_count": 29,
     "metadata": {},
     "output_type": "execute_result"
    }
   ],
   "source": [
    "chr(49)"
   ]
  },
  {
   "cell_type": "markdown",
   "id": "cfa3fa28",
   "metadata": {},
   "source": [
    "## 22. isnumeric()"
   ]
  },
  {
   "cell_type": "raw",
   "id": "b4ec0abb",
   "metadata": {},
   "source": [
    "True -- >> If all char are digits, subscripts, superscripts , fraction (1/2,3/5)"
   ]
  },
  {
   "cell_type": "code",
   "execution_count": 31,
   "id": "e9b68521",
   "metadata": {},
   "outputs": [
    {
     "name": "stdout",
     "output_type": "stream",
     "text": [
      "True\n",
      "False\n",
      "False\n"
     ]
    }
   ],
   "source": [
    "string = \"\\u00BD\"\n",
    "print(string.isnumeric()) ## True\n",
    "print(string.isdigit()) ## False\n",
    "print(string.isdecimal()) ## false"
   ]
  },
  {
   "cell_type": "raw",
   "id": "cc5bcb2f",
   "metadata": {},
   "source": [
    "Q. Diff between isnumeric vs isdigit vs isdecimal "
   ]
  },
  {
   "cell_type": "code",
   "execution_count": 34,
   "id": "2748bc7c",
   "metadata": {},
   "outputs": [
    {
     "name": "stdout",
     "output_type": "stream",
     "text": [
      "False\n",
      "False\n",
      "False\n"
     ]
    }
   ],
   "source": [
    "string = \"3.14\" \n",
    "\n",
    "print(string.isdecimal()) ## false\n",
    "print(string.isdigit())\n",
    "print(string.isdecimal())"
   ]
  },
  {
   "cell_type": "markdown",
   "id": "19081d6d",
   "metadata": {},
   "source": [
    "## 23. zfill()"
   ]
  },
  {
   "cell_type": "raw",
   "id": "4e1242e8",
   "metadata": {},
   "source": [
    "zero filling \n",
    "\n",
    "Synatx:\n",
    "\n",
    "string.zfill([count]) until it reached to specified count length it will add 0 at begining of string. \n"
   ]
  },
  {
   "cell_type": "code",
   "execution_count": 38,
   "id": "6c62af9c",
   "metadata": {},
   "outputs": [
    {
     "name": "stdout",
     "output_type": "stream",
     "text": [
      "6\n",
      "0000python\n",
      "10\n"
     ]
    }
   ],
   "source": [
    "string = \"python\"\n",
    "print(len(string))\n",
    "s1 = string.zfill(10)\n",
    "print(s1)\n",
    "print(len(s1))"
   ]
  },
  {
   "cell_type": "code",
   "execution_count": 39,
   "id": "d4638c58",
   "metadata": {},
   "outputs": [
    {
     "name": "stdout",
     "output_type": "stream",
     "text": [
      "6\n",
      "000000000000000000000000python\n",
      "30\n"
     ]
    }
   ],
   "source": [
    "string = \"python\"\n",
    "print(len(string))\n",
    "s1 = string.zfill(30)\n",
    "print(s1)\n",
    "print(len(s1))"
   ]
  },
  {
   "cell_type": "markdown",
   "id": "0f85aae2",
   "metadata": {},
   "source": [
    "## 24. center()"
   ]
  },
  {
   "cell_type": "code",
   "execution_count": null,
   "id": "b0b436a7",
   "metadata": {},
   "outputs": [],
   "source": [
    "Synatx:\n",
    "    string.center(length, char) # whitespace is by default"
   ]
  },
  {
   "cell_type": "code",
   "execution_count": null,
   "id": "b8996ea0",
   "metadata": {},
   "outputs": [],
   "source": []
  },
  {
   "cell_type": "code",
   "execution_count": 42,
   "id": "e1ab79a5",
   "metadata": {},
   "outputs": [
    {
     "name": "stdout",
     "output_type": "stream",
     "text": [
      "6\n"
     ]
    },
    {
     "data": {
      "text/plain": [
       "'  python  '"
      ]
     },
     "execution_count": 42,
     "metadata": {},
     "output_type": "execute_result"
    }
   ],
   "source": [
    "string = \"python\"\n",
    "print(len(string))\n",
    "s1 = string.center(10)\n",
    "s1\n"
   ]
  },
  {
   "cell_type": "code",
   "execution_count": 43,
   "id": "87a800df",
   "metadata": {},
   "outputs": [
    {
     "name": "stdout",
     "output_type": "stream",
     "text": [
      "6\n"
     ]
    },
    {
     "data": {
      "text/plain": [
       "'++python++'"
      ]
     },
     "execution_count": 43,
     "metadata": {},
     "output_type": "execute_result"
    }
   ],
   "source": [
    "string = \"python\"\n",
    "print(len(string))\n",
    "s1 = string.center(10,'+')\n",
    "s1"
   ]
  },
  {
   "cell_type": "code",
   "execution_count": 45,
   "id": "952e331e",
   "metadata": {},
   "outputs": [
    {
     "data": {
      "text/plain": [
       "'+++python++'"
      ]
     },
     "execution_count": 45,
     "metadata": {},
     "output_type": "execute_result"
    }
   ],
   "source": [
    "string = \"python\"\n",
    "\n",
    "s1 = string.center(11,'+')\n",
    "s1"
   ]
  },
  {
   "cell_type": "code",
   "execution_count": null,
   "id": "9fee8fbf",
   "metadata": {},
   "outputs": [],
   "source": []
  },
  {
   "cell_type": "code",
   "execution_count": null,
   "id": "41722b3a",
   "metadata": {},
   "outputs": [],
   "source": []
  },
  {
   "cell_type": "markdown",
   "id": "5305f6c1",
   "metadata": {},
   "source": [
    "# 25. spilt()\n"
   ]
  },
  {
   "cell_type": "raw",
   "id": "658329cd",
   "metadata": {},
   "source": [
    "split() method will convert your string to list.\n",
    "\n",
    "\n",
    "Sequence ---> list, tuple, set, frozenset, range\n",
    "\n",
    "list -- collection of different data datatype\n",
    "\n",
    "Synatx: \n",
    "\n",
    "string.split(separator, maxspilt) # by default whitesapace is our separater"
   ]
  },
  {
   "cell_type": "code",
   "execution_count": 48,
   "id": "19246b9c",
   "metadata": {},
   "outputs": [
    {
     "name": "stdout",
     "output_type": "stream",
     "text": [
      "<class 'list'>\n"
     ]
    }
   ],
   "source": [
    "list1 = [1,3.14,'python']\n",
    "print(type(list1))"
   ]
  },
  {
   "cell_type": "code",
   "execution_count": 50,
   "id": "4df4225c",
   "metadata": {},
   "outputs": [
    {
     "name": "stdout",
     "output_type": "stream",
     "text": [
      "['python', 'and', 'data', 'science']\n"
     ]
    }
   ],
   "source": [
    "string = \"python and data science\"\n",
    "l1 = string.split()\n",
    "print(l1)"
   ]
  },
  {
   "cell_type": "code",
   "execution_count": 51,
   "id": "75328b3d",
   "metadata": {},
   "outputs": [
    {
     "name": "stdout",
     "output_type": "stream",
     "text": [
      "['Data', 'science', 'is', 'an', 'interdisciplinary', 'field', 'that', 'uses', 'scientific', 'methods,', 'processes,', 'algorithms', 'and', 'systems', 'to', 'extract', 'knowledge', 'and', 'insights', 'from', 'noisy,', 'structured', 'and', 'unstructured', 'data,', 'and', 'apply', 'knowledge', 'and', 'actionable', 'insights', 'from', 'data', 'across', 'a', 'broad', 'range', 'of', 'application', 'domains.']\n"
     ]
    }
   ],
   "source": [
    "string = \"Data science is an interdisciplinary field that uses scientific methods, processes, algorithms and systems to extract knowledge and insights from noisy, structured and unstructured data, and apply knowledge and actionable insights from data across a broad range of application domains.\"\n",
    "l1 = string.split()\n",
    "print(l1)"
   ]
  },
  {
   "cell_type": "code",
   "execution_count": 52,
   "id": "7a63bc23",
   "metadata": {},
   "outputs": [
    {
     "name": "stdout",
     "output_type": "stream",
     "text": [
      "['python ', ' data science']\n"
     ]
    }
   ],
   "source": [
    "string = \"python and data science\"\n",
    "l1 = string.split('and')\n",
    "print(l1)"
   ]
  },
  {
   "cell_type": "code",
   "execution_count": 53,
   "id": "b7c5bb50",
   "metadata": {},
   "outputs": [
    {
     "name": "stdout",
     "output_type": "stream",
     "text": [
      "['apple ', ' banana ', ' cherry ', ' orange ', ' mango ']\n"
     ]
    }
   ],
   "source": [
    "string = \"apple # banana # cherry # orange # mango \"\n",
    "l1 = string.split('#')\n",
    "print(l1)"
   ]
  },
  {
   "cell_type": "code",
   "execution_count": 54,
   "id": "0ae9206d",
   "metadata": {},
   "outputs": [
    {
     "name": "stdout",
     "output_type": "stream",
     "text": [
      "['apple ', ' banana ', ' cherry # orange # mango ']\n"
     ]
    }
   ],
   "source": [
    "string = \"apple # banana # cherry # orange # mango \"\n",
    "l1 = string.split('#',2)\n",
    "print(l1)"
   ]
  },
  {
   "cell_type": "code",
   "execution_count": 59,
   "id": "0c2f715b",
   "metadata": {},
   "outputs": [
    {
     "name": "stdout",
     "output_type": "stream",
     "text": [
      "['apple # ', ' # orange # mango ']\n"
     ]
    }
   ],
   "source": [
    "string = \"apple # banana # cherry # orange # mango \"\n",
    "l1 = string.split('banana # cherry')\n",
    "print(l1)"
   ]
  },
  {
   "cell_type": "markdown",
   "id": "c9388dc6",
   "metadata": {},
   "source": [
    "# 26. join()"
   ]
  },
  {
   "cell_type": "raw",
   "id": "d7b6a2cb",
   "metadata": {},
   "source": [
    "convert list to string\n",
    "\n",
    "syntax : \n",
    "    char.join(iterable)\n",
    "    \n",
    "    \n",
    "    "
   ]
  },
  {
   "cell_type": "code",
   "execution_count": 61,
   "id": "2dbb9a4e",
   "metadata": {},
   "outputs": [
    {
     "name": "stdout",
     "output_type": "stream",
     "text": [
      "apple   banana   cherry   orange   mango \n"
     ]
    }
   ],
   "source": [
    "list1 = ['apple ', ' banana ', ' cherry ', ' orange ', ' mango ']\n",
    "string =\" \".join(list1) \n",
    "print(string)"
   ]
  },
  {
   "cell_type": "code",
   "execution_count": 62,
   "id": "784aca57",
   "metadata": {},
   "outputs": [
    {
     "name": "stdout",
     "output_type": "stream",
     "text": [
      "apple banana cherry orange mango\n"
     ]
    }
   ],
   "source": [
    "list1 = ['apple', 'banana', 'cherry', 'orange', 'mango']\n",
    "string =\" \".join(list1) \n",
    "print(string)"
   ]
  },
  {
   "cell_type": "code",
   "execution_count": 63,
   "id": "293cb2eb",
   "metadata": {},
   "outputs": [
    {
     "name": "stdout",
     "output_type": "stream",
     "text": [
      "apple    banana    cherry    orange    mango\n"
     ]
    }
   ],
   "source": [
    "list1 = ['apple', 'banana', 'cherry', 'orange', 'mango']\n",
    "string =\"    \".join(list1) \n",
    "print(string)"
   ]
  },
  {
   "cell_type": "code",
   "execution_count": 64,
   "id": "22b2d6cc",
   "metadata": {},
   "outputs": [
    {
     "name": "stdout",
     "output_type": "stream",
     "text": [
      "apple  #$  banana  #$  cherry  #$  orange  #$  mango\n"
     ]
    }
   ],
   "source": [
    "list1 = ['apple', 'banana', 'cherry', 'orange', 'mango']\n",
    "string =\"  #$  \".join(list1) \n",
    "print(string)"
   ]
  },
  {
   "cell_type": "code",
   "execution_count": null,
   "id": "6b3f1118",
   "metadata": {},
   "outputs": [],
   "source": []
  }
 ],
 "metadata": {
  "kernelspec": {
   "display_name": "Python 3 (ipykernel)",
   "language": "python",
   "name": "python3"
  },
  "language_info": {
   "codemirror_mode": {
    "name": "ipython",
    "version": 3
   },
   "file_extension": ".py",
   "mimetype": "text/x-python",
   "name": "python",
   "nbconvert_exporter": "python",
   "pygments_lexer": "ipython3",
   "version": "3.9.9"
  }
 },
 "nbformat": 4,
 "nbformat_minor": 5
}
