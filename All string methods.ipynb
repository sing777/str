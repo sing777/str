{
 "cells": [
  {
   "cell_type": "code",
   "execution_count": null,
   "id": "d630db02",
   "metadata": {},
   "outputs": [],
   "source": [
    "String Methods \n",
    "\n",
    "1. capitalize() --> Convert first char capital \n",
    "    syntax : var.capitalize()\n",
    "\n",
    "2. upper() --> convert all char in upper case\n",
    "    syntax: var.upper()\n",
    "3. isupper() --> return True if all char are in upper case \n",
    "    syntax: var.isupper()\n",
    "        \n",
    "4. lower() --> convert all char in lower case\n",
    "    syntax : var.lower()\n",
    "5. islower() --> return True if all char are in lower case\n",
    "    syntax : var.islower()\n",
    "\n",
    "6. title() --> First char of every word will be capital \n",
    "    syntax: var.title()\n",
    "7. istitle() --> return True if first char of every word is capital.\n",
    "    syntax : var.istitle()\n",
    "        \n",
    "26. spilt() --> it will convert string to list \n",
    "    syntax: \n",
    "        \n",
    "        code: \n",
    "            string = \"python and data science\"\n",
    "            list1 = string.split()\n",
    "            print(list1)\n",
    "            \n",
    "        OUTPUT = ['python','and','data','science']    "
   ]
  }
 ],
 "metadata": {
  "kernelspec": {
   "display_name": "Python 3 (ipykernel)",
   "language": "python",
   "name": "python3"
  },
  "language_info": {
   "codemirror_mode": {
    "name": "ipython",
    "version": 3
   },
   "file_extension": ".py",
   "mimetype": "text/x-python",
   "name": "python",
   "nbconvert_exporter": "python",
   "pygments_lexer": "ipython3",
   "version": "3.9.9"
  }
 },
 "nbformat": 4,
 "nbformat_minor": 5
}
